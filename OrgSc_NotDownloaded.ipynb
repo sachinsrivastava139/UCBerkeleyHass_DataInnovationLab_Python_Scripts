{
 "cells": [
  {
   "cell_type": "code",
   "execution_count": 13,
   "id": "af464dc9",
   "metadata": {},
   "outputs": [],
   "source": [
    "import os\n",
    "import csv\n",
    "\n",
    "# Set the folder path\n",
    "folder_path = '/Users/sachinsrivastava/Downloads/OrgSc_Journal_Data/'\n",
    "\n",
    "# Get all file names in the folder\n",
    "file_names = os.listdir(folder_path)\n",
    "\n",
    "# Create a CSV file to store the file names\n",
    "with open(\"Journal_OrgSc_Downloaded.csv\", \"w\", newline=\"\") as csvfile:\n",
    "    # Create a CSV writer\n",
    "    writer = csv.writer(csvfile)\n",
    "    # Write the header row\n",
    "    writer.writerow([\"File Name\"])\n",
    "    # Write each file name (without the .pdf extension) as a new row\n",
    "    for file_name in file_names:\n",
    "        writer.writerow([os.path.splitext(file_name)[0]])\n",
    "\n"
   ]
  },
  {
   "cell_type": "code",
   "execution_count": 14,
   "id": "cbc734e4",
   "metadata": {},
   "outputs": [],
   "source": [
    "# Open the CSV file with the links\n",
    "with open(\"Final_Download_links_OrgSc.csv\", \"r\") as links_file:\n",
    "    # Read the CSV file into a dictionary\n",
    "    links_reader = csv.DictReader(links_file)\n",
    "    # Extract the links from the \"Links\" column and store them in a set\n",
    "    links_set = {row[\"Links\"] for row in links_reader}"
   ]
  },
  {
   "cell_type": "code",
   "execution_count": 15,
   "id": "892c764b",
   "metadata": {},
   "outputs": [],
   "source": [
    "import csv\n",
    "\n",
    "# Open the CSV file with the links\n",
    "with open(\"Final_Download_links_OrgSc.csv\", \"r\") as links_file:\n",
    "    # Read the CSV file into a dictionary\n",
    "    links_reader = csv.DictReader(links_file)\n",
    "    # Create a new CSV file to store the link parts\n",
    "    with open(\"Links_Parts_OrgSc.csv\", \"w\", newline=\"\") as parts_file:\n",
    "        # Create a CSV writer\n",
    "        parts_writer = csv.writer(parts_file)\n",
    "        # Loop through each row in the CSV file\n",
    "        for row in links_reader:\n",
    "            # Split the link on the \"/\" character\n",
    "            link_parts = row[\"Links\"].split(\"/\")\n",
    "            # Write the resulting list of link parts as a new row in the CSV file\n",
    "            parts_writer.writerow(link_parts)\n"
   ]
  },
  {
   "cell_type": "code",
   "execution_count": 16,
   "id": "26942fe3",
   "metadata": {},
   "outputs": [],
   "source": [
    "import pandas as pd\n",
    "\n",
    "# read csv file\n",
    "df = pd.read_csv('OrgSc_NotDownloaded.csv')\n",
    "\n",
    "# add prefix and suffix to each entry\n",
    "df['Links'] = 'https://pubsonline-informs-org.cmu.idm.oclc.org/doi/pdf/10.1287/' + df['Links'].astype(str) + '?download=true'\n",
    "\n",
    "# save updated dataframe to csv\n",
    "df.to_csv('OrgSc_NotDownloaded_Final.csv', index=False)\n"
   ]
  },
  {
   "cell_type": "code",
   "execution_count": null,
   "id": "de5a9906",
   "metadata": {},
   "outputs": [],
   "source": []
  }
 ],
 "metadata": {
  "kernelspec": {
   "display_name": "Python 3 (ipykernel)",
   "language": "python",
   "name": "python3"
  },
  "language_info": {
   "codemirror_mode": {
    "name": "ipython",
    "version": 3
   },
   "file_extension": ".py",
   "mimetype": "text/x-python",
   "name": "python",
   "nbconvert_exporter": "python",
   "pygments_lexer": "ipython3",
   "version": "3.9.13"
  }
 },
 "nbformat": 4,
 "nbformat_minor": 5
}
