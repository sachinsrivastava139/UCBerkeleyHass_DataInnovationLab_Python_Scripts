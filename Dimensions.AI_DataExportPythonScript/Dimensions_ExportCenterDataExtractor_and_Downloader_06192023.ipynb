{
 "cells": [
  {
   "cell_type": "markdown",
   "id": "58d30d41",
   "metadata": {},
   "source": [
    "# Code for Login, navigating to Exports Page and Parsing the HTML"
   ]
  },
  {
   "cell_type": "code",
   "execution_count": null,
   "id": "8d427591",
   "metadata": {},
   "outputs": [],
   "source": [
    "import requests\n",
    "import os\n",
    "import time\n",
    "from bs4 import BeautifulSoup\n",
    "from selenium import webdriver\n",
    "import pandas as pd\n",
    "import warnings\n",
    "warnings.filterwarnings(\"ignore\")\n",
    "\n",
    "# Define the URL\n",
    "url = 'https://app.dimensions.ai/exports'\n",
    "\n",
    "# Login page URL\n",
    "login_url = 'https://app.dimensions.ai/login' # Update with actual login page URL\n",
    "\n",
    "# Path to your Chromedriver executable\n",
    "path_to_chromedriver = '/Users/sachinsrivastava/Downloads/chromedriver'\n",
    "\n",
    "# Create the driver instance\n",
    "driver = webdriver.Chrome(executable_path=path_to_chromedriver)\n",
    "\n",
    "# Open the login page\n",
    "driver.get(login_url)\n",
    "\n",
    "# Wait for login to complete\n",
    "time.sleep(60)\n",
    "\n",
    "# Navigate to the data page\n",
    "driver.get(url)\n",
    "\n",
    "# Add delay for page to load\n",
    "time.sleep(5)\n",
    "\n",
    "# Fetch page source\n",
    "html = driver.page_source\n",
    "\n",
    "# Create soup object\n",
    "soup = BeautifulSoup(html, 'lxml')\n",
    "\n",
    "# Find table rows\n",
    "rows = soup.find_all('tr', {'data-bt': 'table-row'})\n",
    "\n",
    "# Prepare list to hold all row data\n",
    "table_data = []\n",
    "\n",
    "for row in rows:\n",
    "    data = {}\n",
    "    data['Query'] = row.find('td', {'data-bt': 'export_name'}).text\n",
    "    data['Date'] = row.find('td', {'data-bt': 'table-column-date'}).text\n",
    "    data['Source'] = row.find('td', {'data-bt': 'table-column-source'}).text\n",
    "    data['Records'] = row.find('td', {'data-bt': 'table-column-records'}).text\n",
    "    data['File size'] = row.find('td', {'data-bt': 'table-column-filesize'}).text\n",
    "    data['Format'] = row.find('td', {'data-bt': 'table-column-format'}).text\n",
    "    data['Download_Link'] = row.find('a', {'data-bt': 'download_export'})['href']\n",
    "    \n",
    "    table_data.append(data)\n",
    "\n",
    "driver.quit()"
   ]
  },
  {
   "cell_type": "markdown",
   "id": "faf206bb",
   "metadata": {},
   "source": [
    "# Data Processing to Create Filename, Publication_Title columns"
   ]
  },
  {
   "cell_type": "code",
   "execution_count": 5,
   "id": "a67bccc3",
   "metadata": {
    "scrolled": true
   },
   "outputs": [],
   "source": [
    "# Convert list of dicts to DataFrame\n",
    "df = pd.DataFrame(table_data)\n",
    "\n",
    "# Create 'Filename' column\n",
    "df['Filename'] = df['Download_Link'].apply(lambda x: x.split('/')[-1])\n",
    "\n",
    "# Create 'Publication_Title' column\n",
    "df['Publication_Title'] = df['Query'].apply(lambda x: x.split(':')[-1]).str.strip('\"')\n",
    "\n",
    "# Set the output file path\n",
    "xlsx_file_path = '/Users/sachinsrivastava/Downloads/PythonCodes_Local/Hass_DataInnovationLab/DimensionsTask_06172023/Dimensions_ExportCenterData_output_06192023_v3.0.xlsx'\n",
    "\n",
    "# Save DataFrame to Excel file\n",
    "df.to_excel(xlsx_file_path, index=False)"
   ]
  },
  {
   "cell_type": "markdown",
   "id": "6c938481",
   "metadata": {},
   "source": [
    "# Download the Files"
   ]
  },
  {
   "cell_type": "code",
   "execution_count": 7,
   "id": "ae8241b5",
   "metadata": {},
   "outputs": [
    {
     "ename": "KeyboardInterrupt",
     "evalue": "",
     "output_type": "error",
     "traceback": [
      "\u001b[0;31m---------------------------------------------------------------------------\u001b[0m",
      "\u001b[0;31mKeyboardInterrupt\u001b[0m                         Traceback (most recent call last)",
      "Cell \u001b[0;32mIn[7], line 27\u001b[0m\n\u001b[1;32m     24\u001b[0m     file\u001b[38;5;241m.\u001b[39mwrite(response\u001b[38;5;241m.\u001b[39mcontent)\n\u001b[1;32m     26\u001b[0m \u001b[38;5;66;03m# Wait for 1 second before next download\u001b[39;00m\n\u001b[0;32m---> 27\u001b[0m \u001b[43mtime\u001b[49m\u001b[38;5;241;43m.\u001b[39;49m\u001b[43msleep\u001b[49m\u001b[43m(\u001b[49m\u001b[38;5;241;43m3\u001b[39;49m\u001b[43m)\u001b[49m\n",
      "\u001b[0;31mKeyboardInterrupt\u001b[0m: "
     ]
    }
   ],
   "source": [
    "import requests\n",
    "import os\n",
    "import time\n",
    "\n",
    "# Set the download directory\n",
    "download_directory = '/Users/sachinsrivastava/Downloads/PythonCodes_Local/Hass_DataInnovationLab/Dimensions_Downloads'\n",
    "\n",
    "# Ensure the download directory exists\n",
    "os.makedirs(download_directory, exist_ok=True)\n",
    "\n",
    "# Iterate over the download links\n",
    "for index, row in df.iterrows():\n",
    "    url = row['Download_Link']\n",
    "    filename = row['Filename']\n",
    "\n",
    "    # Create the full file path\n",
    "    file_path = os.path.join(download_directory, filename)\n",
    "\n",
    "    # Download the file\n",
    "    response = requests.get(url, allow_redirects=True)\n",
    "    \n",
    "    # Write the content to a file\n",
    "    with open(file_path, 'wb') as file:\n",
    "        file.write(response.content)\n",
    "    \n",
    "    # Wait for 1 second before next download\n",
    "    time.sleep(1)"
   ]
  },
  {
   "cell_type": "code",
   "execution_count": null,
   "id": "3a0d734a",
   "metadata": {},
   "outputs": [],
   "source": []
  }
 ],
 "metadata": {
  "kernelspec": {
   "display_name": "Python 3 (ipykernel)",
   "language": "python",
   "name": "python3"
  },
  "language_info": {
   "codemirror_mode": {
    "name": "ipython",
    "version": 3
   },
   "file_extension": ".py",
   "mimetype": "text/x-python",
   "name": "python",
   "nbconvert_exporter": "python",
   "pygments_lexer": "ipython3",
   "version": "3.10.9"
  }
 },
 "nbformat": 4,
 "nbformat_minor": 5
}
