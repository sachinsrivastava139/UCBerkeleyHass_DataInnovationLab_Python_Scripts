{
 "cells": [
  {
   "cell_type": "markdown",
   "id": "587f5f7c",
   "metadata": {},
   "source": [
    "# Import Libraries"
   ]
  },
  {
   "cell_type": "code",
   "execution_count": null,
   "id": "8f7ef7ac",
   "metadata": {},
   "outputs": [],
   "source": [
    "from selenium import webdriver\n",
    "from selenium.webdriver.common.by import By\n",
    "from selenium.webdriver.support.ui import WebDriverWait\n",
    "from selenium.webdriver.support import expected_conditions as EC\n",
    "from selenium.common.exceptions import TimeoutException\n",
    "import time\n",
    "import csv\n",
    "import warnings\n",
    "warnings.filterwarnings(\"ignore\")"
   ]
  },
  {
   "cell_type": "markdown",
   "id": "a2473db7",
   "metadata": {},
   "source": [
    "# PATH to CSV File"
   ]
  },
  {
   "cell_type": "code",
   "execution_count": null,
   "id": "e96f47e8",
   "metadata": {},
   "outputs": [],
   "source": [
    "# CSV file with the URLs\n",
    "csv_file_path = '/Users/sachinsrivastava/Downloads/PythonCodes_Local/Hass_DataInnovationLab/DimensionsTask_06172023/mnsc_citationurl.csv'"
   ]
  },
  {
   "cell_type": "markdown",
   "id": "dfe4da48",
   "metadata": {},
   "source": [
    "# Initiate Selenium AND LOGIN STEP: YOU NEED TO FINISH LOGIN IN 60 SECONDS"
   ]
  },
  {
   "cell_type": "code",
   "execution_count": null,
   "id": "98abc3e5",
   "metadata": {},
   "outputs": [],
   "source": [
    "# Path to your Chromedriver executable\n",
    "path_to_chromedriver = '/Users/sachinsrivastava/Downloads/chromedriver'\n",
    "\n",
    "# Initiate Selenium webdriver\n",
    "driver = webdriver.Chrome(executable_path=path_to_chromedriver)\n",
    "\n",
    "# Login page URL\n",
    "login_url = 'https://app.dimensions.ai/login' # Update with actual login page URL\n",
    "\n",
    "# Open the login page\n",
    "driver.get(login_url)\n",
    "\n",
    "# Wait for login to complete\n",
    "time.sleep(60)"
   ]
  },
  {
   "cell_type": "markdown",
   "id": "64a28fb9",
   "metadata": {},
   "source": [
    "# SET THE INDEX YOU WISH TO START THE LOOP FROM"
   ]
  },
  {
   "cell_type": "code",
   "execution_count": null,
   "id": "ba7e0bb1",
   "metadata": {},
   "outputs": [],
   "source": [
    "# Starting index\n",
    "start_index = 0"
   ]
  },
  {
   "cell_type": "markdown",
   "id": "a5cccf81",
   "metadata": {},
   "source": [
    "# MAIN LOOP"
   ]
  },
  {
   "cell_type": "code",
   "execution_count": null,
   "id": "4986c30e",
   "metadata": {},
   "outputs": [],
   "source": [
    "with open(csv_file_path, newline='') as f:\n",
    "    reader = csv.DictReader(f)\n",
    "    urls = [row['dimensions_citationurl'] for row in reader]\n",
    "\n",
    "output_data = []\n",
    "\n",
    "for idx, url in enumerate(urls[start_index:], start=start_index):\n",
    "    print(f'Processing row index: {idx}')\n",
    "    success_flag = \"Success\"\n",
    "\n",
    "    # Open the URL\n",
    "    driver.get(url)\n",
    "\n",
    "    # Let the page load\n",
    "    time.sleep(5)\n",
    "\n",
    "    # Get the publication count\n",
    "    try:\n",
    "        publication_count_element = WebDriverWait(driver, 5).until(\n",
    "            EC.presence_of_element_located((By.XPATH, '//*[@data-bt=\"result_count_publication_plus\"]')))\n",
    "        publication_count = publication_count_element.text\n",
    "        print(publication_count)\n",
    "    except TimeoutException:\n",
    "        publication_count = -1\n",
    "        print(\"Could not retrieve publication count, set to -1.\")\n",
    "        success_flag = \"Fail\"\n",
    "\n",
    "    # Click on the 'Save / Export' button\n",
    "    try:\n",
    "        save_export_button = WebDriverWait(driver, 10).until(\n",
    "            EC.presence_of_element_located((By.XPATH, \"//button[normalize-space()='Save / Export']\")))\n",
    "        save_export_button.click()\n",
    "    except TimeoutException:\n",
    "        print(\"Could not click on 'Save / Export' button.\")\n",
    "        success_flag = \"Fail\"\n",
    "\n",
    "    # Let the page load\n",
    "    time.sleep(5)\n",
    "\n",
    "    # Click on the 'Export results' button\n",
    "    try:\n",
    "        export_results_button = WebDriverWait(driver, 10).until(\n",
    "            EC.presence_of_element_located((By.XPATH, \"//button[normalize-space()='Export results']\")))\n",
    "        export_results_button.click()\n",
    "    except TimeoutException:\n",
    "        print(\"Could not click on 'Export results' button.\")\n",
    "        success_flag = \"Fail\"\n",
    "\n",
    "    # Let the page load\n",
    "    time.sleep(5)\n",
    "\n",
    "    # Click on the final 'Export' button in the modal\n",
    "    try:\n",
    "        final_export_button = WebDriverWait(driver, 10).until(\n",
    "            EC.presence_of_element_located((By.XPATH, \"//button[normalize-space()='Export']\")))\n",
    "        final_export_button.click()\n",
    "    except TimeoutException:\n",
    "        print(\"Could not click on final 'Export' button.\")\n",
    "        success_flag = \"Fail\"\n",
    "\n",
    "    # Let the page load\n",
    "    time.sleep(5)\n",
    "\n",
    "    # Append the URL and the publication count to the output data\n",
    "    output_data.append([url, publication_count, success_flag])\n",
    "\n",
    "    # Save to a new CSV file every 50 URLs\n",
    "    if (idx + 1) % 50 == 0:\n",
    "        with open(f'output_data_{(idx + 1)//100}.csv', 'w', newline='') as output_file:\n",
    "            writer = csv.writer(output_file)\n",
    "            writer.writerow(['URL', 'Publication_Count', 'Success/Fail?'])\n",
    "            writer.writerows(output_data)\n",
    "            # Reset the output data\n",
    "            output_data = []\n",
    "\n",
    "# Save the remaining data if there's any\n",
    "if output_data:\n",
    "    with open(f'output_data_{len(urls)//100 + 1}.csv', 'w', newline='') as output_file:\n",
    "        writer = csv.writer(output_file)\n",
    "        writer.writerow(['URL', 'Publication_Count', 'Success/Fail?'])\n",
    "        writer.writerows(output_data)\n",
    "\n",
    "# Close the webdriver\n",
    "driver.quit()"
   ]
  }
 ],
 "metadata": {
  "kernelspec": {
   "display_name": "Python 3 (ipykernel)",
   "language": "python",
   "name": "python3"
  },
  "language_info": {
   "codemirror_mode": {
    "name": "ipython",
    "version": 3
   },
   "file_extension": ".py",
   "mimetype": "text/x-python",
   "name": "python",
   "nbconvert_exporter": "python",
   "pygments_lexer": "ipython3",
   "version": "3.10.9"
  }
 },
 "nbformat": 4,
 "nbformat_minor": 5
}
