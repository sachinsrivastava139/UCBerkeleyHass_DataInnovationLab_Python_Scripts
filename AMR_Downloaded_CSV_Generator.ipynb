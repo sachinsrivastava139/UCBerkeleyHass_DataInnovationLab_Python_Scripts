{
 "cells": [
  {
   "cell_type": "code",
   "execution_count": 4,
   "id": "d09b9f98",
   "metadata": {},
   "outputs": [],
   "source": [
    "import os\n",
    "import csv\n",
    "\n",
    "folder_path = \"/Users/sachinsrivastava/Downloads/PythonCodes/AMR_Downloads/AMR_Data_v1.0\"\n",
    "csv_file_path = \"/Users/sachinsrivastava/Downloads/PythonCodes/AMR_Downloads/Downloaded_AMR_pdfs.csv\"\n",
    "\n",
    "# Get a list of all the files in the folder\n",
    "file_list = os.listdir(folder_path)\n",
    "\n",
    "# Write the file list to a CSV file with each filename separated into different columns\n",
    "with open(csv_file_path, \"w\") as csvfile:\n",
    "    csvwriter = csv.writer(csvfile)\n",
    "    \n",
    "    # Write the column headers\n",
    "    csvwriter.writerow([\"SNo\", \"DOI\"])\n",
    "    \n",
    "    # Write the file list to the CSV file\n",
    "    for filename in file_list:\n",
    "        # Remove the \".pdf\" extension from the file name\n",
    "        filename = filename.replace(\".pdf\", \"\")\n",
    "        \n",
    "        # Split the filename into its component parts\n",
    "        filename_parts = filename.split(\"_\")\n",
    "        \n",
    "        # Write the filename parts to the CSV file\n",
    "        csvwriter.writerow(filename_parts)\n",
    "\n"
   ]
  },
  {
   "cell_type": "code",
   "execution_count": null,
   "id": "b72dd993",
   "metadata": {},
   "outputs": [],
   "source": []
  }
 ],
 "metadata": {
  "kernelspec": {
   "display_name": "Python 3 (ipykernel)",
   "language": "python",
   "name": "python3"
  },
  "language_info": {
   "codemirror_mode": {
    "name": "ipython",
    "version": 3
   },
   "file_extension": ".py",
   "mimetype": "text/x-python",
   "name": "python",
   "nbconvert_exporter": "python",
   "pygments_lexer": "ipython3",
   "version": "3.9.13"
  }
 },
 "nbformat": 4,
 "nbformat_minor": 5
}
