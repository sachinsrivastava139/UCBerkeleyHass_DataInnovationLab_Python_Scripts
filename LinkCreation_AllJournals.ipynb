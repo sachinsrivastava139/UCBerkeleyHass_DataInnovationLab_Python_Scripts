{
 "cells": [
  {
   "cell_type": "code",
   "execution_count": 1,
   "id": "5ea8ca3b",
   "metadata": {},
   "outputs": [],
   "source": [
    "import csv\n",
    "\n",
    "# Define the base URL\n",
    "base_url = 'https://journals.sagepub.com/toc/asqa/'\n",
    "\n",
    "# Define a list of volume and issue numbers\n",
    "volumes = list(range(44, 68))\n",
    "issues = list(range(1, 5))\n",
    "\n",
    "# Initialize an empty list to store the generated URLs\n",
    "urls = []\n",
    "\n",
    "# Generate the URLs by combining the base URL with each volume and issue number\n",
    "for volume in volumes:\n",
    "    for issue in issues:\n",
    "        url = f'{base_url}{volume}/{issue}'\n",
    "        urls.append(url)\n",
    "\n",
    "# Save the generated URLs to a CSV file\n",
    "with open('AdminScQ_urls.csv', 'w', newline='') as csvfile:\n",
    "    writer = csv.writer(csvfile)\n",
    "    writer.writerow(['URL'])\n",
    "    for url in urls:\n",
    "        writer.writerow([url])\n"
   ]
  },
  {
   "cell_type": "code",
   "execution_count": 2,
   "id": "7f2fae6d",
   "metadata": {},
   "outputs": [],
   "source": [
    "import csv\n",
    "\n",
    "# Define the base URL\n",
    "base_url = 'https://pubsonline.informs.org/toc/orsc/'\n",
    "\n",
    "# Define a list of volume and issue numbers\n",
    "volumes = list(range(1, 34))\n",
    "issues = [4]*5 + [6]*28\n",
    "\n",
    "# Initialize an empty list to store the generated URLs\n",
    "urls = []\n",
    "\n",
    "# Generate the URLs by combining the base URL with each volume and issue number\n",
    "for volume, num_issues in zip(volumes, issues):\n",
    "    for issue in range(1, num_issues+1):\n",
    "        url = f'{base_url}{volume}/{issue}'\n",
    "        urls.append(url)\n",
    "\n",
    "# Save the generated URLs to a CSV file\n",
    "with open('OrgSc_urls.csv', 'w', newline='') as csvfile:\n",
    "    writer = csv.writer(csvfile)\n",
    "    writer.writerow(['URL'])\n",
    "    for url in urls:\n",
    "        writer.writerow([url])\n"
   ]
  },
  {
   "cell_type": "code",
   "execution_count": 3,
   "id": "81d6c045",
   "metadata": {},
   "outputs": [],
   "source": [
    "import csv\n",
    "\n",
    "# Define the base URL\n",
    "base_url = 'https://journals.aom.org/toc/amr/'\n",
    "\n",
    "# Define a list of volume and issue numbers\n",
    "volumes = list(range(1, 48))\n",
    "issues = [4]*47\n",
    "\n",
    "# Initialize an empty list to store the generated URLs\n",
    "urls = []\n",
    "\n",
    "# Generate the URLs by combining the base URL with each volume and issue number\n",
    "for volume, num_issues in zip(volumes, issues):\n",
    "    for issue in range(1, num_issues+1):\n",
    "        url = f'{base_url}{volume}/{issue}'\n",
    "        urls.append(url)\n",
    "\n",
    "# Save the generated URLs to a CSV file\n",
    "with open('AMR_urls.csv', 'w', newline='') as csvfile:\n",
    "    writer = csv.writer(csvfile)\n",
    "    writer.writerow(['URL'])\n",
    "    for url in urls:\n",
    "        writer.writerow([url])\n"
   ]
  },
  {
   "cell_type": "code",
   "execution_count": null,
   "id": "58ed6a0f",
   "metadata": {},
   "outputs": [],
   "source": []
  }
 ],
 "metadata": {
  "kernelspec": {
   "display_name": "Python 3 (ipykernel)",
   "language": "python",
   "name": "python3"
  },
  "language_info": {
   "codemirror_mode": {
    "name": "ipython",
    "version": 3
   },
   "file_extension": ".py",
   "mimetype": "text/x-python",
   "name": "python",
   "nbconvert_exporter": "python",
   "pygments_lexer": "ipython3",
   "version": "3.9.13"
  }
 },
 "nbformat": 4,
 "nbformat_minor": 5
}
